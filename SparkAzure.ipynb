{
  "cells": [
    {
      "cell_type": "code",
      "source": [
        "spark"
      ],
      "outputs": [
        {
          "output_type": "display_data",
          "data": {
            "application/vnd.livy.statement-meta+json": {
              "spark_pool": "testspark4298",
              "session_id": "0",
              "statement_id": 8,
              "state": "finished",
              "livy_statement_state": "available",
              "queued_time": "2022-07-22T09:33:35.9011284Z",
              "session_start_time": null,
              "execution_start_time": "2022-07-22T09:33:36.0174659Z",
              "execution_finish_time": "2022-07-22T09:33:36.1600403Z",
              "spark_jobs": null
            },
            "text/plain": "StatementMeta(testspark4298, 0, 8, Finished, Available)"
          },
          "metadata": {}
        },
        {
          "output_type": "execute_result",
          "execution_count": 17,
          "data": {
            "text/plain": "<pyspark.sql.session.SparkSession at 0x7f00a9219518>",
            "text/html": "\n            <div>\n                <p><b>SparkSession - hive</b></p>\n                \n        <div>\n            <p><b>SparkContext</b></p>\n\n            <p><a href=\"http://vm-a6330178:34929\">Spark UI</a></p>\n\n            <dl>\n              <dt>Version</dt>\n                <dd><code>v2.4.8.2.6.99.201-65515229</code></dd>\n              <dt>Master</dt>\n                <dd><code>yarn</code></dd>\n              <dt>AppName</dt>\n                <dd><code>Notebook 1_testspark4298_1658480646</code></dd>\n            </dl>\n        </div>\n        \n            </div>\n        "
          },
          "metadata": {}
        }
      ],
      "execution_count": 7,
      "metadata": {}
    },
    {
      "cell_type": "code",
      "source": [
        "#Access key\r\n",
        "spark.conf.set(\"fs.azure.account.auth.type.adlsstorage4298.dfs.core.windows.net\",\"SharedKey\")"
      ],
      "outputs": [
        {
          "output_type": "display_data",
          "data": {
            "application/vnd.livy.statement-meta+json": {
              "spark_pool": "testspark4298",
              "session_id": "0",
              "statement_id": 9,
              "state": "finished",
              "livy_statement_state": "available",
              "queued_time": "2022-07-22T09:34:56.147001Z",
              "session_start_time": null,
              "execution_start_time": "2022-07-22T09:34:56.2594048Z",
              "execution_finish_time": "2022-07-22T09:34:56.4278224Z",
              "spark_jobs": null
            },
            "text/plain": "StatementMeta(testspark4298, 0, 9, Finished, Available)"
          },
          "metadata": {}
        }
      ],
      "execution_count": 8,
      "metadata": {
        "jupyter": {
          "source_hidden": false,
          "outputs_hidden": false
        },
        "nteract": {
          "transient": {
            "deleting": false
          }
        }
      }
    },
    {
      "cell_type": "code",
      "source": [
        "spark.conf.set(\"fs.azure.account.key.adlsstorage4298.dfs.core.windows.net\",\"aWexrLVdOokH3MYN416YGi/feNTsJHD8GQjHipz74u4BVJMw108gRt+j1/wzD7LMOpP1z8/uGi36+AStkSWF0w==\")\r\n"
      ],
      "outputs": [
        {
          "output_type": "display_data",
          "data": {
            "application/vnd.livy.statement-meta+json": {
              "spark_pool": "testspark4298",
              "session_id": "0",
              "statement_id": 10,
              "state": "finished",
              "livy_statement_state": "available",
              "queued_time": "2022-07-22T09:35:19.1477615Z",
              "session_start_time": null,
              "execution_start_time": "2022-07-22T09:35:19.2606319Z",
              "execution_finish_time": "2022-07-22T09:35:19.4183108Z",
              "spark_jobs": null
            },
            "text/plain": "StatementMeta(testspark4298, 0, 10, Finished, Available)"
          },
          "metadata": {}
        }
      ],
      "execution_count": 9,
      "metadata": {
        "jupyter": {
          "source_hidden": false,
          "outputs_hidden": false
        },
        "nteract": {
          "transient": {
            "deleting": false
          }
        }
      }
    },
    {
      "cell_type": "code",
      "source": [
        "from pyspark.sql.types import *\r\n",
        "schemaTransData = StructType([\r\n",
        "    StructField(\"txnid\", IntegerType(), True),\r\n",
        "    StructField(\"txndate\", StringType(), True),\r\n",
        "    StructField(\"custid\", IntegerType(), True),\r\n",
        "    StructField(\"amount\", DoubleType(), True),\r\n",
        "    StructField(\"category\", StringType(), True),\r\n",
        "    StructField(\"subcategory\", StringType(), True),\r\n",
        "    StructField(\"city\", StringType(), True),\r\n",
        "    StructField(\"state\", StringType(), True),\r\n",
        "    StructField(\"txntype\", StringType(), True),\r\n",
        "                    ])\r\n",
        "dataFrame1 = spark.read.option(\"header\",False).schema(schemaTransData).option(\"delimiter\",\",\").csv(\"abfss://adlsdata@adlsstorage4298.dfs.core.windows.net/transactions/txns\")\r\n",
        "dataFrame1.show(5)"
      ],
      "outputs": [
        {
          "output_type": "display_data",
          "data": {
            "application/vnd.livy.statement-meta+json": {
              "spark_pool": "testspark4298",
              "session_id": "0",
              "statement_id": 34,
              "state": "finished",
              "livy_statement_state": "available",
              "queued_time": "2022-07-22T09:53:43.5984752Z",
              "session_start_time": null,
              "execution_start_time": "2022-07-22T09:53:43.6947647Z",
              "execution_finish_time": "2022-07-22T09:53:44.2042351Z",
              "spark_jobs": null
            },
            "text/plain": "StatementMeta(testspark4298, 0, 34, Finished, Available)"
          },
          "metadata": {}
        },
        {
          "output_type": "stream",
          "name": "stdout",
          "text": [
            "+-----+----------+-------+------+------------------+--------------------+-----------+----------+-------+\n|txnid|   txndate| custid|amount|          category|         subcategory|       city|     state|txntype|\n+-----+----------+-------+------+------------------+--------------------+-----------+----------+-------+\n|    0|06-26-2011|4007024| 40.33|Exercise & Fitness|Cardio Machine Ac...|Clarksville| Tennessee| credit|\n|    1|05-26-2011|4006742|198.44|Exercise & Fitness|Weightlifting Gloves| Long Beach|California| credit|\n|    2|06-01-2011|4009775|  5.58|Exercise & Fitness|Weightlifting Mac...|    Anaheim|California| credit|\n|    3|06-05-2011|4002199|198.19|        Gymnastics|    Gymnastics Rings|  Milwaukee| Wisconsin| credit|\n|    4|12-17-2011|4002613| 98.81|       Team Sports|        Field Hockey|Nashville  | Tennessee| credit|\n+-----+----------+-------+------+------------------+--------------------+-----------+----------+-------+\nonly showing top 5 rows\n\n"
          ]
        }
      ],
      "execution_count": 33,
      "metadata": {
        "jupyter": {
          "source_hidden": false,
          "outputs_hidden": false
        },
        "nteract": {
          "transient": {
            "deleting": false
          }
        }
      }
    },
    {
      "cell_type": "code",
      "source": [
        "dataFrame1.printSchema()"
      ],
      "outputs": [
        {
          "output_type": "display_data",
          "data": {
            "application/vnd.livy.statement-meta+json": {
              "spark_pool": "testspark4298",
              "session_id": "0",
              "statement_id": 35,
              "state": "finished",
              "livy_statement_state": "available",
              "queued_time": "2022-07-22T09:54:09.3100916Z",
              "session_start_time": null,
              "execution_start_time": "2022-07-22T09:54:09.4047971Z",
              "execution_finish_time": "2022-07-22T09:54:11.3450728Z",
              "spark_jobs": null
            },
            "text/plain": "StatementMeta(testspark4298, 0, 35, Finished, Available)"
          },
          "metadata": {}
        },
        {
          "output_type": "stream",
          "name": "stdout",
          "text": [
            "root\n |-- txnid: integer (nullable = true)\n |-- txndate: string (nullable = true)\n |-- custid: integer (nullable = true)\n |-- amount: double (nullable = true)\n |-- category: string (nullable = true)\n |-- subcategory: string (nullable = true)\n |-- city: string (nullable = true)\n |-- state: string (nullable = true)\n |-- txntype: string (nullable = true)\n\n"
          ]
        }
      ],
      "execution_count": 34,
      "metadata": {
        "jupyter": {
          "source_hidden": false,
          "outputs_hidden": false
        },
        "nteract": {
          "transient": {
            "deleting": false
          }
        }
      }
    },
    {
      "cell_type": "code",
      "source": [
        "schemaCustdata= StructType([\r\n",
        "    StructField(\"custid\", IntegerType(), True),\r\n",
        "    StructField(\"fname\", StringType(), True),\r\n",
        "    StructField(\"lname\", StringType(), True),\r\n",
        "    StructField(\"age\", IntegerType(), True),\r\n",
        "    StructField(\"profession\", StringType(), True)\r\n",
        "                    ])\r\n",
        "dataFrame2 = spark.read.option(\"header\",False).schema(schemaCustdata).option(\"delimiter\",\",\").csv(\"abfss://adlsdata@adlsstorage4298.dfs.core.windows.net/custdata/custs\")\r\n",
        "dataFrame2.show(5)"
      ],
      "outputs": [
        {
          "output_type": "display_data",
          "data": {
            "application/vnd.livy.statement-meta+json": {
              "spark_pool": "testspark4298",
              "session_id": "0",
              "statement_id": 37,
              "state": "finished",
              "livy_statement_state": "available",
              "queued_time": "2022-07-22T09:56:46.6703171Z",
              "session_start_time": null,
              "execution_start_time": "2022-07-22T09:56:46.7813426Z",
              "execution_finish_time": "2022-07-22T09:56:47.283626Z",
              "spark_jobs": null
            },
            "text/plain": "StatementMeta(testspark4298, 0, 37, Finished, Available)"
          },
          "metadata": {}
        },
        {
          "output_type": "stream",
          "name": "stdout",
          "text": [
            "+-------+--------+-------+---+--------------------+\n| custid|   fname|  lname|age|          profession|\n+-------+--------+-------+---+--------------------+\n|4000001|Kristina|  Chung| 55|               Pilot|\n|4000002|   Paige|   Chen| 74|             Teacher|\n|4000003|  Sherri| Melton| 34|         Firefighter|\n|4000004|Gretchen|   Hill| 66|Computer hardware...|\n|4000005|   Karen|Puckett| 74|              Lawyer|\n+-------+--------+-------+---+--------------------+\nonly showing top 5 rows\n\n"
          ]
        }
      ],
      "execution_count": 36,
      "metadata": {
        "jupyter": {
          "source_hidden": false,
          "outputs_hidden": false
        },
        "nteract": {
          "transient": {
            "deleting": false
          }
        }
      }
    },
    {
      "cell_type": "code",
      "source": [
        "dataFrame2.printSchema()"
      ],
      "outputs": [
        {
          "output_type": "display_data",
          "data": {
            "application/vnd.livy.statement-meta+json": {
              "spark_pool": "testspark4298",
              "session_id": "0",
              "statement_id": 38,
              "state": "finished",
              "livy_statement_state": "available",
              "queued_time": "2022-07-22T09:56:57.4060655Z",
              "session_start_time": null,
              "execution_start_time": "2022-07-22T09:56:57.5119783Z",
              "execution_finish_time": "2022-07-22T09:56:57.6613633Z",
              "spark_jobs": null
            },
            "text/plain": "StatementMeta(testspark4298, 0, 38, Finished, Available)"
          },
          "metadata": {}
        },
        {
          "output_type": "stream",
          "name": "stdout",
          "text": [
            "root\n |-- custid: integer (nullable = true)\n |-- fname: string (nullable = true)\n |-- lname: string (nullable = true)\n |-- age: integer (nullable = true)\n |-- profession: string (nullable = true)\n\n"
          ]
        }
      ],
      "execution_count": 37,
      "metadata": {
        "jupyter": {
          "source_hidden": false,
          "outputs_hidden": false
        },
        "nteract": {
          "transient": {
            "deleting": false
          }
        }
      }
    },
    {
      "cell_type": "code",
      "source": [
        "dataFrame1.registerTempTable('Transactions')\r\n",
        "dataFrame2.registerTempTable('Customers')\r\n",
        "spark.sql(\"show tables\").show()"
      ],
      "outputs": [
        {
          "output_type": "display_data",
          "data": {
            "application/vnd.livy.statement-meta+json": {
              "spark_pool": "testspark4298",
              "session_id": "0",
              "statement_id": 39,
              "state": "finished",
              "livy_statement_state": "available",
              "queued_time": "2022-07-22T09:57:17.5316435Z",
              "session_start_time": null,
              "execution_start_time": "2022-07-22T09:57:17.6392984Z",
              "execution_finish_time": "2022-07-22T09:57:18.1401878Z",
              "spark_jobs": null
            },
            "text/plain": "StatementMeta(testspark4298, 0, 39, Finished, Available)"
          },
          "metadata": {}
        },
        {
          "output_type": "stream",
          "name": "stdout",
          "text": [
            "+--------+------------+-----------+\n|database|   tableName|isTemporary|\n+--------+------------+-----------+\n|        |   customers|       true|\n|        |transactions|       true|\n+--------+------------+-----------+\n\n"
          ]
        }
      ],
      "execution_count": 38,
      "metadata": {
        "jupyter": {
          "source_hidden": false,
          "outputs_hidden": false
        },
        "nteract": {
          "transient": {
            "deleting": false
          }
        }
      }
    },
    {
      "cell_type": "code",
      "source": [
        "#a. Find the total revenue generated based on category\r\n",
        "spark.sql(\"select category,sum(amount) as total_revenue from transactions group by category order by total_revenue\").show()"
      ],
      "outputs": [
        {
          "output_type": "display_data",
          "data": {
            "application/vnd.livy.statement-meta+json": {
              "spark_pool": "testspark4298",
              "session_id": "0",
              "statement_id": 41,
              "state": "finished",
              "livy_statement_state": "available",
              "queued_time": "2022-07-22T09:57:52.5065815Z",
              "session_start_time": null,
              "execution_start_time": "2022-07-22T09:57:52.6060544Z",
              "execution_finish_time": "2022-07-22T09:57:55.4656495Z",
              "spark_jobs": null
            },
            "text/plain": "StatementMeta(testspark4298, 0, 41, Finished, Available)"
          },
          "metadata": {}
        },
        {
          "output_type": "stream",
          "name": "stdout",
          "text": [
            "+--------------------+--------------------+\n|            category|       total_revenue|\n+--------------------+--------------------+\n|             Dancing|   820886.2499999998|\n|             Puzzles|  1227776.4400000002|\n|          Air Sports|   2080245.090000001|\n|       Combat Sports|   3305832.759999997|\n|      Racquet Sports|   3314022.080000001|\n|             Jumping|  4107379.3399999966|\n|Outdoor Play Equi...|   5765130.969999998|\n|        Indoor Games|   5774627.900000003|\n|          Gymnastics|   6617582.299999998|\n|       Winter Sports|   6628206.310000003|\n|               Games|   7417431.410000009|\n|        Water Sports| 1.074843876000002E7|\n|         Team Sports|1.2405851640000027E7|\n|  Exercise & Fitness|1.4890130299999973E7|\n|  Outdoor Recreation| 1.736480985999999E7|\n+--------------------+--------------------+\n\n"
          ]
        }
      ],
      "execution_count": 40,
      "metadata": {
        "jupyter": {
          "source_hidden": false,
          "outputs_hidden": false
        },
        "nteract": {
          "transient": {
            "deleting": false
          }
        }
      }
    },
    {
      "cell_type": "code",
      "source": [
        "#b. Find the total number of transactions done by card\r\n",
        "spark.sql(\"select count(txnid) as total_card_transactions from transactions where txntype='credit'\").show()"
      ],
      "outputs": [
        {
          "output_type": "display_data",
          "data": {
            "application/vnd.livy.statement-meta+json": {
              "spark_pool": "testspark4298",
              "session_id": "0",
              "statement_id": 42,
              "state": "finished",
              "livy_statement_state": "available",
              "queued_time": "2022-07-22T10:01:17.9617056Z",
              "session_start_time": null,
              "execution_start_time": "2022-07-22T10:01:18.0898711Z",
              "execution_finish_time": "2022-07-22T10:01:19.8795945Z",
              "spark_jobs": null
            },
            "text/plain": "StatementMeta(testspark4298, 0, 42, Finished, Available)"
          },
          "metadata": {}
        },
        {
          "output_type": "stream",
          "name": "stdout",
          "text": [
            "+-----------------------+\n|total_card_transactions|\n+-----------------------+\n|                 863585|\n+-----------------------+\n\n"
          ]
        }
      ],
      "execution_count": 41,
      "metadata": {
        "jupyter": {
          "source_hidden": false,
          "outputs_hidden": false
        },
        "nteract": {
          "transient": {
            "deleting": false
          }
        }
      }
    },
    {
      "cell_type": "code",
      "source": [
        "#c. Find the highest selling category\r\n",
        "spark.sql(\"select category,sum(amount) as total_revenue from transactions group by category order by total_revenue desc limit 1\").show()"
      ],
      "outputs": [
        {
          "output_type": "display_data",
          "data": {
            "application/vnd.livy.statement-meta+json": {
              "spark_pool": "testspark4298",
              "session_id": "0",
              "statement_id": 43,
              "state": "finished",
              "livy_statement_state": "available",
              "queued_time": "2022-07-22T10:02:17.7155456Z",
              "session_start_time": null,
              "execution_start_time": "2022-07-22T10:02:17.8157201Z",
              "execution_finish_time": "2022-07-22T10:02:20.6429928Z",
              "spark_jobs": null
            },
            "text/plain": "StatementMeta(testspark4298, 0, 43, Finished, Available)"
          },
          "metadata": {}
        },
        {
          "output_type": "stream",
          "name": "stdout",
          "text": [
            "+------------------+--------------------+\n|          category|       total_revenue|\n+------------------+--------------------+\n|Outdoor Recreation|1.7364809859999992E7|\n+------------------+--------------------+\n\n"
          ]
        }
      ],
      "execution_count": 42,
      "metadata": {
        "jupyter": {
          "source_hidden": false,
          "outputs_hidden": false
        },
        "nteract": {
          "transient": {
            "deleting": false
          }
        }
      }
    },
    {
      "cell_type": "code",
      "source": [
        "#d. Find the lowest selling subcategory in highest selling category\r\n",
        "spark.sql(\"select subcategory,sum(amount) as total_revenue from transactions where category='Outdoor Recreation' group by subcategory order by total_revenue asc limit 1\").show()"
      ],
      "outputs": [
        {
          "output_type": "display_data",
          "data": {
            "application/vnd.livy.statement-meta+json": {
              "spark_pool": "testspark4298",
              "session_id": "0",
              "statement_id": 44,
              "state": "finished",
              "livy_statement_state": "available",
              "queued_time": "2022-07-22T10:04:23.1876553Z",
              "session_start_time": null,
              "execution_start_time": "2022-07-22T10:04:23.2872757Z",
              "execution_finish_time": "2022-07-22T10:04:26.0697575Z",
              "spark_jobs": null
            },
            "text/plain": "StatementMeta(testspark4298, 0, 44, Finished, Available)"
          },
          "metadata": {}
        },
        {
          "output_type": "stream",
          "name": "stdout",
          "text": [
            "+-----------+-----------------+\n|subcategory|    total_revenue|\n+-----------+-----------------+\n| Equestrian|806128.8099999996|\n+-----------+-----------------+\n\n"
          ]
        }
      ],
      "execution_count": 43,
      "metadata": {
        "jupyter": {
          "source_hidden": false,
          "outputs_hidden": false
        },
        "nteract": {
          "transient": {
            "deleting": false
          }
        }
      }
    },
    {
      "cell_type": "code",
      "source": [
        "#e. Find the total number of transactions done by customers with profession = Carpenter\r\n",
        "spark.sql(\"select count(txnid) as total_transactions from transactions join customers on transactions.custid=customers.custid where customers.profession='Carpenter'\").show()"
      ],
      "outputs": [
        {
          "output_type": "display_data",
          "data": {
            "application/vnd.livy.statement-meta+json": {
              "spark_pool": "testspark4298",
              "session_id": "0",
              "statement_id": 46,
              "state": "finished",
              "livy_statement_state": "available",
              "queued_time": "2022-07-22T10:08:09.4040143Z",
              "session_start_time": null,
              "execution_start_time": "2022-07-22T10:08:09.5041827Z",
              "execution_finish_time": "2022-07-22T10:08:15.4452944Z",
              "spark_jobs": null
            },
            "text/plain": "StatementMeta(testspark4298, 0, 46, Finished, Available)"
          },
          "metadata": {}
        },
        {
          "output_type": "stream",
          "name": "stdout",
          "text": [
            "+------------------+\n|total_transactions|\n+------------------+\n|             18231|\n+------------------+\n\n"
          ]
        }
      ],
      "execution_count": 45,
      "metadata": {
        "jupyter": {
          "source_hidden": false,
          "outputs_hidden": false
        },
        "nteract": {
          "transient": {
            "deleting": false
          }
        }
      }
    },
    {
      "cell_type": "code",
      "source": [],
      "outputs": [],
      "execution_count": null,
      "metadata": {
        "jupyter": {
          "source_hidden": false,
          "outputs_hidden": false
        },
        "nteract": {
          "transient": {
            "deleting": false
          }
        }
      }
    }
  ],
  "metadata": {
    "language_info": {
      "name": "python"
    },
    "kernelspec": {
      "name": "synapse_pyspark",
      "language": "Python",
      "display_name": "Synapse PySpark"
    },
    "kernel_info": {
      "name": "synapse_pyspark"
    },
    "save_output": true,
    "synapse_widget": {
      "version": "0.1",
      "state": {}
    }
  },
  "nbformat": 4,
  "nbformat_minor": 2
}